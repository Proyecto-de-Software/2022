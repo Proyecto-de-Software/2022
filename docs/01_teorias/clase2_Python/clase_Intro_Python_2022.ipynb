{
 "cells": [
  {
   "cell_type": "markdown",
   "metadata": {
    "slideshow": {
     "slide_type": "slide"
    }
   },
   "source": [
    "# Proyecto de Software\n",
    "\n",
    "\n",
    "## Cursada 2022\n"
   ]
  },
  {
   "cell_type": "markdown",
   "metadata": {
    "slideshow": {
     "slide_type": "slide"
    }
   },
   "source": [
    "# ¿Qué abordaremos en esta clase?\n",
    "\n",
    "- Una introducción a Python.\n",
    "    - Aspectos básicos.\n",
    "    - POO\n",
    "    \n",
    "- Para más detalle: clase2_1 y clase2_2 de 2021\n",
    "- Dejamos dos videos más con temas específicos: classe2_3 y clase2_4 de 2021\n",
    "- Pueden solicitar matricularse en el curso del Seminario 2022."
   ]
  },
  {
   "cell_type": "markdown",
   "metadata": {
    "slideshow": {
     "slide_type": "slide"
    }
   },
   "source": [
    "\n",
    "# Programación en el servidor\n",
    "\n",
    "<center>\n",
    "<img src=\"images/backendPython.png\" alt=\"Backend developer-roadmap 2020\" width=\"700px\"/></center>\n",
    "\n",
    "[Roadmap](https://github.com/kamranahmedse/developer-roadmap)\n",
    "\n",
    "\n"
   ]
  },
  {
   "cell_type": "markdown",
   "metadata": {
    "slideshow": {
     "slide_type": "slide"
    }
   },
   "source": [
    "\n",
    "# Nosotros usaremos Python\n",
    "\n",
    "## ¿Por qué?\n",
    "\n",
    "- Es un lenguaje que en los últimos años ha crecido de manera constante. \n",
    "    - [Stack Overflow Trends\n",
    "](https://insights.stackoverflow.com/trends?tags=java%2Cc%2Cc%2B%2B%2Cpython%2Cc%23%2Cvb.net%2Cjavascript%2Cassembly%2Cphp%2Cperl%2Cruby%2Cvb%2Cswift%2Cr%2Cobjective-c)\n",
    "    - [https://githut.info/](https://githut.info/)\n",
    "\n"
   ]
  },
  {
   "cell_type": "markdown",
   "metadata": {
    "slideshow": {
     "slide_type": "slide"
    }
   },
   "source": [
    "\n",
    "# Documentación y referencias\n",
    "\n",
    "- Sitio oficial: http://python.org/\n",
    "- Documentación en español: https://wiki.python.org/moin/SpanishLanguage\n",
    "- Python Argentina: http://python.org.ar/\n",
    "- Otras referencias:\n",
    "    - https://docs.python-guide.org/\n",
    "    - https://realpython.com/\n",
    "\n",
    "**IMPORTANTE**: en los tutoriales y cursos en línea chequear la **versión** de Python. \n",
    " "
   ]
  },
  {
   "cell_type": "markdown",
   "metadata": {
    "slideshow": {
     "slide_type": "slide"
    }
   },
   "source": [
    "\n",
    "# Características del lenguaje\n",
    "\n",
    "Es un lenguaje de alto nivel, fácil de aprender. Muy expresivo y legible. "
   ]
  },
  {
   "cell_type": "markdown",
   "metadata": {
    "slideshow": {
     "slide_type": "fragment"
    }
   },
   "source": [
    "```python\n",
    "numero_aleatorio = random.randrange(5)\n",
    "gane = False\n",
    "print(\"Tenés 5 intentos para adivinar un entre 0 y 99\")\n",
    "intento = 1\n",
    "\n",
    "while intento < 6 and not gane:\n",
    "    numero_ingresado = int(input('Ingresa tu número: '))\n",
    "    if numero_ingresado == numero_aleatorio:\n",
    "        print('Ganaste! y necesitaste {} intentos!!!'.format(intento))\n",
    "        gane = True\n",
    "    else:\n",
    "        print('Mmmm ... No.. ese número no es... Seguí intentando.')\n",
    "        intento += 1\n",
    "if not gane:\n",
    "    print('Perdiste. El número era: {}'.format(numero_aleatorio))\n",
    "\n",
    "```\n",
    "- Sintaxis muy clara. **Indentación obligatoria.**\n"
   ]
  },
  {
   "cell_type": "markdown",
   "metadata": {
    "slideshow": {
     "slide_type": "slide"
    }
   },
   "source": [
    "# Importante: la legibilidad\n",
    "\n",
    "- Beautiful is better than ugly.\n",
    "- Explicit is better than implicit.\n",
    "- Simple is better than complex.\n",
    "- Complex is better than complicated.\n",
    "- Flat is better than nested.\n",
    "- Sparse is better than dense.\n",
    "- Readability counts.\n",
    "\n",
    "- ... [The Zen of Python](https://www.python.org/dev/peps/pep-0020/)"
   ]
  },
  {
   "cell_type": "markdown",
   "metadata": {
    "slideshow": {
     "slide_type": "slide"
    }
   },
   "source": [
    "# Python Enhancement Proposals (PEP)\n",
    "\n",
    "- Las PEP son documentos que proporcionan información a la comunidad de Python sobre distintas características del lenguaje, novedades en las distintas versiones, guías de codificación, etc.\n",
    "\n",
    "- La [PEP 0](https://www.python.org/dev/peps/#introduction) contiene el indice de todas las PEP.\n",
    "- La [PEP 20](https://www.python.org/dev/peps/pep-0020/): el Zen de Python...\n",
    "\n"
   ]
  },
  {
   "cell_type": "markdown",
   "metadata": {
    "slideshow": {
     "slide_type": "subslide"
    }
   },
   "source": [
    "#  PEP 8: guía de estilo de codificación\n",
    "\n",
    "**\"El código es leído muchas más veces de lo que es escrito\"** ( Guido Van Rossum)\n",
    "\n",
    "- [PEP 8](https://www.python.org/dev/peps/pep-0008/)\n",
    "\n",
    "- Hay guías sobre la [indentación](https://www.python.org/dev/peps/pep-0008/#indentation), [convenciones sobre los nombres](https://www.python.org/dev/peps/pep-0008/#naming-conventions), etc.  \n",
    "\n",
    "- Algunos IDE chequean que se respeten estas guías.\n",
    "- Su adopción es MUY importante cuando se comparte el código."
   ]
  },
  {
   "cell_type": "markdown",
   "metadata": {
    "slideshow": {
     "slide_type": "subslide"
    }
   },
   "source": [
    "# Características del lenguaje (cont.)\n",
    "\n",
    "- Es **interpretado**, **multiplataforma** y **multiparadigma**\n",
    "- Posee tipado dinámico y fuerte. \n",
    "- Tiene un manejo eficiente de estructuras de datos de alto nivel. "
   ]
  },
  {
   "cell_type": "markdown",
   "metadata": {
    "slideshow": {
     "slide_type": "slide"
    }
   },
   "source": [
    "#  Estamos usando [Jupyter Notebook](https://jupyter.org/)"
   ]
  },
  {
   "cell_type": "code",
   "execution_count": 1,
   "metadata": {
    "slideshow": {
     "slide_type": "fragment"
    }
   },
   "outputs": [
    {
     "name": "stdout",
     "output_type": "stream",
     "text": [
      "Tenés 3 intentos para adivinar un entre 0 y 4\n",
      "Ingresa tu número: 2\n",
      "Mmmm ... No.. ese número no es... Seguí intentando.\n",
      "Ingresa tu número: 2\n",
      "Mmmm ... No.. ese número no es... Seguí intentando.\n",
      "Perdiste. El número era: 1\n"
     ]
    }
   ],
   "source": [
    "#### Adivina adivinador....\n",
    "import random\n",
    "numero_aleatorio = random.randrange(5)\n",
    "gane = False\n",
    "\n",
    "print(\"Tenés 3 intentos para adivinar un entre 0 y 4\")\n",
    "intento = 1\n",
    "\n",
    "while intento < 3 and not gane:\n",
    "    numero_ingresado = int(input('Ingresa tu número: '))\n",
    "    if numero_ingresado == numero_aleatorio:\n",
    "        print('Ganaste! y necesitaste {} intentos!!!'.format(intento))\n",
    "        gane = True\n",
    "    else:\n",
    "        print('Mmmm ... No.. ese número no es... Seguí intentando.')\n",
    "        intento += 1\n",
    "if not gane:\n",
    "    print('Perdiste. El número era: {}'.format(numero_aleatorio))"
   ]
  },
  {
   "cell_type": "markdown",
   "metadata": {
    "slideshow": {
     "slide_type": "slide"
    }
   },
   "source": [
    "# Empezamos de a poco ..."
   ]
  },
  {
   "cell_type": "markdown",
   "metadata": {
    "slideshow": {
     "slide_type": "fragment"
    }
   },
   "source": [
    "- Las variables no se declaran. \n",
    "    - Se crean **dinámicamente** cuando se les asigna un valor.\n",
    "- Pueden cambiar de tipo a lo largo del programa.\n",
    "    - Python cuenta con **tipado dinámico**"
   ]
  },
  {
   "cell_type": "markdown",
   "metadata": {
    "slideshow": {
     "slide_type": "subslide"
    }
   },
   "source": [
    "- Las variables permiten referenciar a los objetos almacenados en la memoria. \n",
    "- Cada objeto tiene asociado **un tipo, un valor y una identidad**.\n",
    "    - La identidad actúa como un puntero a la posición de memoria del  objeto.\n",
    "\n",
    "- Una vez que se crea un objeto, su identidad y tipo no se pueden cambiar.\n",
    "\n",
    "- Podemos obtener la identidad de un objeto con la función **id()**."
   ]
  },
  {
   "cell_type": "code",
   "execution_count": 2,
   "metadata": {
    "slideshow": {
     "slide_type": "fragment"
    }
   },
   "outputs": [
    {
     "name": "stdout",
     "output_type": "stream",
     "text": [
      "hola hola hola \n",
      "139982987548848 139982987548848\n"
     ]
    }
   ],
   "source": [
    "a = \"hola\"\n",
    "b = a\n",
    "c = \"hola \"\n",
    "print(a, b, c)\n",
    "\n",
    "print(id(a), id(b))"
   ]
  },
  {
   "cell_type": "markdown",
   "metadata": {
    "slideshow": {
     "slide_type": "slide"
    }
   },
   "source": [
    "# Sentencia **import**"
   ]
  },
  {
   "cell_type": "code",
   "execution_count": 3,
   "metadata": {
    "slideshow": {
     "slide_type": "fragment"
    }
   },
   "outputs": [],
   "source": [
    "import string\n",
    "import random"
   ]
  },
  {
   "cell_type": "code",
   "execution_count": 12,
   "metadata": {
    "slideshow": {
     "slide_type": "fragment"
    }
   },
   "outputs": [
    {
     "data": {
      "text/plain": [
       "1"
      ]
     },
     "execution_count": 12,
     "metadata": {},
     "output_type": "execute_result"
    }
   ],
   "source": [
    "letras = string.ascii_lowercase\n",
    "num = random.randrange(4)\n",
    "num\n",
    "#print(random.choice(letras))"
   ]
  },
  {
   "cell_type": "code",
   "execution_count": 13,
   "metadata": {
    "slideshow": {
     "slide_type": "fragment"
    }
   },
   "outputs": [
    {
     "name": "stdout",
     "output_type": "stream",
     "text": [
      "4.0\n"
     ]
    }
   ],
   "source": [
    "from math import sqrt\n",
    "raiz = sqrt(16)\n",
    "print(raiz)"
   ]
  },
  {
   "cell_type": "markdown",
   "metadata": {
    "slideshow": {
     "slide_type": "fragment"
    }
   },
   "source": [
    "random.choice() vs. sqrt()\n",
    "\n",
    "¿Por qué no math.sqrt() o choice()?"
   ]
  },
  {
   "cell_type": "markdown",
   "metadata": {
    "slideshow": {
     "slide_type": "slide"
    }
   },
   "source": [
    "# Un poco más ...\n"
   ]
  },
  {
   "cell_type": "code",
   "execution_count": 14,
   "metadata": {
    "slideshow": {
     "slide_type": "fragment"
    }
   },
   "outputs": [
    {
     "name": "stdout",
     "output_type": "stream",
     "text": [
      " \n",
      "    La computadora ha pensado un número en un rango de 0 a 4. \n",
      "    Tenés 5 intentos para adivinarlo.\n",
      "    ¿Lo intentás?\n",
      "\n"
     ]
    }
   ],
   "source": [
    "# Se usan triple comillas para cadenas de más de una línea\n",
    "print(\"\"\" \n",
    "    La computadora ha pensado un número en un rango de 0 a 4. \n",
    "    Tenés 5 intentos para adivinarlo.\n",
    "    ¿Lo intentás?\n",
    "\"\"\")"
   ]
  },
  {
   "cell_type": "code",
   "execution_count": 15,
   "metadata": {
    "slideshow": {
     "slide_type": "fragment"
    }
   },
   "outputs": [
    {
     "name": "stdout",
     "output_type": "stream",
     "text": [
      "Ingresa algo 4\n"
     ]
    },
    {
     "data": {
      "text/plain": [
       "str"
      ]
     },
     "execution_count": 15,
     "metadata": {},
     "output_type": "execute_result"
    }
   ],
   "source": [
    "valor = input('Ingresa algo ')\n",
    "type(valor)"
   ]
  },
  {
   "cell_type": "markdown",
   "metadata": {
    "slideshow": {
     "slide_type": "slide"
    }
   },
   "source": [
    "# Cadenas con formato\n"
   ]
  },
  {
   "cell_type": "code",
   "execution_count": 16,
   "metadata": {
    "slideshow": {
     "slide_type": "fragment"
    }
   },
   "outputs": [
    {
     "name": "stdout",
     "output_type": "stream",
     "text": [
      "Hola claudia !!! Ganaste! y necesitaste 3 intentos!!!\n"
     ]
    }
   ],
   "source": [
    "intento = 3\n",
    "print('Hola {} !!! Ganaste! y necesitaste {} intentos!!!'.format(\"claudia\", intento))"
   ]
  },
  {
   "cell_type": "code",
   "execution_count": 17,
   "metadata": {
    "slideshow": {
     "slide_type": "fragment"
    }
   },
   "outputs": [
    {
     "name": "stdout",
     "output_type": "stream",
     "text": [
      " 4  16   64\n"
     ]
    }
   ],
   "source": [
    "x = 4\n",
    "print(\"{0:2d} {1:3d} {2:4d}\".format(x, x*x, x*x*x))"
   ]
  },
  {
   "cell_type": "markdown",
   "metadata": {
    "slideshow": {
     "slide_type": "subslide"
    }
   },
   "source": [
    "# Los f-String\n",
    "\n",
    "- Fueron introducidos a partir de la versión 3.6.\n",
    "- Ver la [PEP 498](https://www.python.org/dev/peps/pep-0498/)\n",
    "- [+Info](https://docs.python.org/3/reference/lexical_analysis.html#f-strings) en la documentación oficial\n",
    "- Una forma más sencilla de usar el format:"
   ]
  },
  {
   "cell_type": "code",
   "execution_count": 18,
   "metadata": {
    "slideshow": {
     "slide_type": "fragment"
    }
   },
   "outputs": [
    {
     "data": {
      "text/plain": [
       "'Hola Claudia !!! Ganaste! y necesitaste 3 intentos!!!'"
      ]
     },
     "execution_count": 18,
     "metadata": {},
     "output_type": "execute_result"
    }
   ],
   "source": [
    "nombre = \"Claudia\"\n",
    "f'Hola {nombre} !!! Ganaste! y necesitaste {intento} intentos!!!'"
   ]
  },
  {
   "cell_type": "code",
   "execution_count": 19,
   "metadata": {},
   "outputs": [
    {
     "data": {
      "text/plain": [
       "' 4 - 16 -   64'"
      ]
     },
     "execution_count": 19,
     "metadata": {},
     "output_type": "execute_result"
    }
   ],
   "source": [
    "x = 4\n",
    "f\"{x:2} - {x*x:} - {x*x*x:4}\""
   ]
  },
  {
   "cell_type": "code",
   "execution_count": 20,
   "metadata": {
    "slideshow": {
     "slide_type": "slide"
    }
   },
   "outputs": [
    {
     "name": "stdout",
     "output_type": "stream",
     "text": [
      "\n",
      "Cadena alineada a izquierda   \n",
      "     Cadena alineada a derecha\n",
      "\n",
      "       Cadena centrada        )\n",
      "\n",
      "*******Cadena centrada********\n"
     ]
    }
   ],
   "source": [
    "cad1 = \"Cadena alineada a izquierda\"\n",
    "cad2 = \"Cadena alineada a derecha\"\n",
    "cad3 = \"Cadena centrada\"\n",
    "print(f\"\\n{cad1:<30}\\n{cad2:>30}\")\n",
    "print(f\"\\n{cad3:^30})\")\n",
    "print(f\"\\n{cad3:*^30}\")"
   ]
  },
  {
   "cell_type": "markdown",
   "metadata": {
    "slideshow": {
     "slide_type": "slide"
    }
   },
   "source": [
    "# Importante: ¡la indentación!\n"
   ]
  },
  {
   "cell_type": "code",
   "execution_count": 23,
   "metadata": {
    "slideshow": {
     "slide_type": "fragment"
    }
   },
   "outputs": [
    {
     "name": "stdout",
     "output_type": "stream",
     "text": [
      "Mmmm ... No es una A... Seguí intentando.\n"
     ]
    }
   ],
   "source": [
    "import string\n",
    "import random\n",
    "letras = string.ascii_lowercase\n",
    "letra = random.choice(letras)\n",
    "if letra  == \"A\":\n",
    "    print(\"Adivinaste\")\n",
    "else:\n",
    "    print('Mmmm ... No es una A... Seguí intentando.')\n"
   ]
  },
  {
   "cell_type": "markdown",
   "metadata": {
    "slideshow": {
     "slide_type": "subslide"
    }
   },
   "source": [
    "\n",
    "## Tipos de datos\n",
    "- Tipos predefinidos: (Built-In Data Types)\n",
    "\n",
    "    - Números (enteros, flotantes y complejos)\n",
    "    - Booleanos\n",
    "    - Cadenas de texto\n",
    "    - Listas, tuplas, diccionarios y conjuntos."
   ]
  },
  {
   "cell_type": "markdown",
   "metadata": {
    "slideshow": {
     "slide_type": "fragment"
    }
   },
   "source": [
    "\n",
    "```python\n",
    "gane = False\n",
    "texto_1 = 'Adivinaste!'\n",
    "intento = 1\n",
    "temperatura = 17.5\n",
    "```\n",
    "\n",
    "- ¿Qué nos indica un tipo de datos?"
   ]
  },
  {
   "cell_type": "markdown",
   "metadata": {
    "slideshow": {
     "slide_type": "subslide"
    }
   },
   "source": [
    "# Colecciones básicas"
   ]
  },
  {
   "cell_type": "code",
   "execution_count": 24,
   "metadata": {
    "slideshow": {
     "slide_type": "fragment"
    }
   },
   "outputs": [],
   "source": [
    "cadena = \"The Beatles\"\n",
    "lista = [\"John\", \"Paul\", \"Ringo\", \"George\"]\n",
    "tupla = (\"John\", \"Paul\", \"Ringo\", \"George\")\n",
    "diccionario = {cadena: lista, 2: tupla}     "
   ]
  },
  {
   "cell_type": "code",
   "execution_count": 25,
   "metadata": {
    "slideshow": {
     "slide_type": "fragment"
    }
   },
   "outputs": [
    {
     "name": "stdout",
     "output_type": "stream",
     "text": [
      "T\n",
      "John\n",
      "John\n"
     ]
    }
   ],
   "source": [
    "print(cadena[0])\n",
    "print(lista[0])\n",
    "print(tupla[0])"
   ]
  },
  {
   "cell_type": "code",
   "execution_count": 27,
   "metadata": {
    "slideshow": {
     "slide_type": "fragment"
    }
   },
   "outputs": [
    {
     "name": "stdout",
     "output_type": "stream",
     "text": [
      "['John', 'Paul', 'Ringo', 'George']\n"
     ]
    }
   ],
   "source": [
    "print(diccionario[cadena])"
   ]
  },
  {
   "cell_type": "markdown",
   "metadata": {
    "slideshow": {
     "slide_type": "slide"
    }
   },
   "source": [
    "# Listas, tuplas, diccionarios\n",
    "\n",
    "- Mutables e inmutables\n",
    "\n",
    "```python\n",
    "cadena = \"The Beatles\"\n",
    "lista = [\"John\", \"Paul\", \"Ringo\", \"George\"]\n",
    "tupla = (\"John\", \"Paul\", \"Ringo\", \"George\")\n",
    "diccionario = {cadena: lista, 2: tupla}     \n",
    "```\n",
    "- ¿Modificamos estas secuencias?"
   ]
  },
  {
   "cell_type": "code",
   "execution_count": 29,
   "metadata": {
    "slideshow": {
     "slide_type": "fragment"
    }
   },
   "outputs": [
    {
     "ename": "TypeError",
     "evalue": "'tuple' object does not support item assignment",
     "output_type": "error",
     "traceback": [
      "\u001b[0;31m---------------------------------------------------------------------------\u001b[0m",
      "\u001b[0;31mTypeError\u001b[0m                                 Traceback (most recent call last)",
      "Input \u001b[0;32mIn [29]\u001b[0m, in \u001b[0;36m<cell line: 1>\u001b[0;34m()\u001b[0m\n\u001b[0;32m----> 1\u001b[0m tupla[\u001b[38;5;241m0\u001b[39m]\u001b[38;5;241m=\u001b[39m \u001b[38;5;124m\"\u001b[39m\u001b[38;5;124mBruce\u001b[39m\u001b[38;5;124m\"\u001b[39m\n\u001b[1;32m      2\u001b[0m tupla\n",
      "\u001b[0;31mTypeError\u001b[0m: 'tuple' object does not support item assignment"
     ]
    }
   ],
   "source": [
    "tupla[0]= \"Bruce\"\n",
    "tupla"
   ]
  },
  {
   "cell_type": "markdown",
   "metadata": {
    "slideshow": {
     "slide_type": "slide"
    }
   },
   "source": [
    "# Son todas referencias..."
   ]
  },
  {
   "cell_type": "code",
   "execution_count": 30,
   "metadata": {
    "slideshow": {
     "slide_type": "fragment"
    }
   },
   "outputs": [
    {
     "data": {
      "text/plain": [
       "['Riff', 'La Renga', 'La Torre', 'Divididos']"
      ]
     },
     "execution_count": 30,
     "metadata": {},
     "output_type": "execute_result"
    }
   ],
   "source": [
    "rock = [\"Riff\", \"La Renga\", \"La Torre\"]\n",
    "blues = [\"La Mississippi\", \"Memphis\"]\n",
    "musica = rock\n",
    "rock.append(\"Divididos\")\n",
    "\n",
    "musica"
   ]
  },
  {
   "cell_type": "code",
   "execution_count": 31,
   "metadata": {
    "slideshow": {
     "slide_type": "fragment"
    }
   },
   "outputs": [
    {
     "name": "stdout",
     "output_type": "stream",
     "text": [
      "139982497481728\n",
      "139982497481728\n",
      "139982497481856\n"
     ]
    }
   ],
   "source": [
    "print(id(musica))\n",
    "print(id(rock))\n",
    "print(id(blues))"
   ]
  },
  {
   "cell_type": "markdown",
   "metadata": {
    "slideshow": {
     "slide_type": "fragment"
    }
   },
   "source": [
    "### Tarea para el hogar...\n",
    "\n",
    "¿Cómo hacemos para  copiar a otra zona de  memoria?\n",
    "Probar: \n",
    "```python\n",
    "musica1 = musica.copy()\n",
    "\n",
    "musica1 = musica[:]\n",
    "\n",
    "```\n"
   ]
  },
  {
   "cell_type": "markdown",
   "metadata": {
    "slideshow": {
     "slide_type": "slide"
    }
   },
   "source": [
    "# Estructuras de control: sentencias condicionales\n",
    "\n",
    "- if\n",
    "- if .. else\n",
    "- if .. elif.. elif.. else\n",
    "- A if C else B"
   ]
  },
  {
   "cell_type": "code",
   "execution_count": 33,
   "metadata": {
    "slideshow": {
     "slide_type": "fragment"
    }
   },
   "outputs": [
    {
     "name": "stdout",
     "output_type": "stream",
     "text": [
      "DAI es estable\n"
     ]
    }
   ],
   "source": [
    "criptos = [\"DAI\", \"USDT\"]\n",
    "cripto = \"DAI\"\n",
    "tipo_cripto = \"estable\" if cripto in criptos  else \"cambiante\"\n",
    "print(f\"{cripto} es {tipo_cripto}\")"
   ]
  },
  {
   "cell_type": "markdown",
   "metadata": {
    "slideshow": {
     "slide_type": "slide"
    }
   },
   "source": [
    "**IMPORTANTE**: Python utiliza la **evaluación con circuito corto**.\n"
   ]
  },
  {
   "cell_type": "code",
   "execution_count": 36,
   "metadata": {
    "slideshow": {
     "slide_type": "fragment"
    }
   },
   "outputs": [
    {
     "name": "stdout",
     "output_type": "stream",
     "text": [
      "Mmmm raro...\n"
     ]
    }
   ],
   "source": [
    "x = 1\n",
    "y = 0\n",
    "if True or x/y:\n",
    "    print(\"Mmmm raro...\")\n",
    "else:\n",
    "    print(\"nada\")\n",
    "    \n"
   ]
  },
  {
   "cell_type": "markdown",
   "metadata": {
    "slideshow": {
     "slide_type": "subslide"
    }
   },
   "source": [
    "# match\n",
    "\n",
    "[PEP 636](https://www.python.org/dev/peps/pep-0636/) --> Para Python 3.10\n"
   ]
  },
  {
   "cell_type": "code",
   "execution_count": 37,
   "metadata": {
    "slideshow": {
     "slide_type": "fragment"
    }
   },
   "outputs": [
    {
     "name": "stdout",
     "output_type": "stream",
     "text": [
      "Febrero\n"
     ]
    }
   ],
   "source": [
    "mes = 2\n",
    "match mes:\n",
    "    case 1:\n",
    "        print(\"Enero\")\n",
    "    case 2:\n",
    "         print(\"Febrero\")\n",
    "    case 3:\n",
    "        print(\"Ups... Se acabaron las vacaciones!!! :()\")"
   ]
  },
  {
   "cell_type": "code",
   "execution_count": 39,
   "metadata": {
    "slideshow": {
     "slide_type": "fragment"
    }
   },
   "outputs": [
    {
     "name": "stdout",
     "output_type": "stream",
     "text": [
      "Ups.. ninguno de los anteriores\n"
     ]
    }
   ],
   "source": [
    "cadena = \"vvv\"\n",
    "match cadena:\n",
    "    case \"uno\":\n",
    "        print(\"UNO\")\n",
    "    case \"dos\"  | \"tres\":\n",
    "        print(\"DOS O TRES\")\n",
    "    case _:\n",
    "        print(\"Ups.. ninguno de los anteriores\")"
   ]
  },
  {
   "cell_type": "markdown",
   "metadata": {
    "slideshow": {
     "slide_type": "slide"
    }
   },
   "source": [
    "# Estructuras de control: iteraciones\n",
    "\n",
    "- while\n",
    "- for .. in"
   ]
  },
  {
   "cell_type": "code",
   "execution_count": 44,
   "metadata": {
    "slideshow": {
     "slide_type": "fragment"
    }
   },
   "outputs": [
    {
     "name": "stdout",
     "output_type": "stream",
     "text": [
      "5-4-3-2-1-"
     ]
    }
   ],
   "source": [
    "i = 5\n",
    "while i >0:\n",
    "    print(i, end=\"-\")\n",
    "    i -= 1"
   ]
  },
  {
   "cell_type": "code",
   "execution_count": 48,
   "metadata": {
    "slideshow": {
     "slide_type": "fragment"
    }
   },
   "outputs": [
    {
     "name": "stdout",
     "output_type": "stream",
     "text": [
      "2-4-6-8-10-12-14-"
     ]
    }
   ],
   "source": [
    "for num in range(2, 15, 2):\n",
    "    print(num, end=\"-\")"
   ]
  },
  {
   "cell_type": "code",
   "execution_count": 49,
   "metadata": {
    "slideshow": {
     "slide_type": "fragment"
    }
   },
   "outputs": [
    {
     "name": "stdout",
     "output_type": "stream",
     "text": [
      "domingo-lunes-martes-miércoles-jueves-viernes-sábado-"
     ]
    }
   ],
   "source": [
    "dias = [\"domingo\", \"lunes\", \"martes\", \"miércoles\", \"jueves\", \"viernes\", \"sábado\"]\n",
    "for d in dias:\n",
    "    print(d, end=\"-\")"
   ]
  },
  {
   "cell_type": "markdown",
   "metadata": {
    "slideshow": {
     "slide_type": "slide"
    }
   },
   "source": [
    "# Definición por comprensión\n"
   ]
  },
  {
   "cell_type": "code",
   "execution_count": 50,
   "metadata": {
    "slideshow": {
     "slide_type": "fragment"
    }
   },
   "outputs": [
    {
     "name": "stdout",
     "output_type": "stream",
     "text": [
      "[0, 1, 4, 9, 16, 25, 36, 49, 64, 81]\n",
      "[0, 4, 16, 36, 64]\n"
     ]
    }
   ],
   "source": [
    "cuadrados = [x**2 for x in range(10)]\n",
    "print(cuadrados)\n",
    "\n",
    "pares = [x for x in cuadrados if x % 2 == 0]\n",
    "print(pares)"
   ]
  },
  {
   "cell_type": "code",
   "execution_count": 51,
   "metadata": {
    "slideshow": {
     "slide_type": "fragment"
    }
   },
   "outputs": [
    {
     "data": {
      "text/plain": [
       "{2: 4, 4: 16, 6: 36}"
      ]
     },
     "execution_count": 51,
     "metadata": {},
     "output_type": "execute_result"
    }
   ],
   "source": [
    "dicci = dict([(x, x**2) for x in (2, 4, 6)]) \n",
    "dicci"
   ]
  },
  {
   "cell_type": "markdown",
   "metadata": {
    "slideshow": {
     "slide_type": "slide"
    }
   },
   "source": [
    "# Funciones "
   ]
  },
  {
   "cell_type": "code",
   "execution_count": 52,
   "metadata": {
    "slideshow": {
     "slide_type": "fragment"
    }
   },
   "outputs": [
    {
     "name": "stdout",
     "output_type": "stream",
     "text": [
      "pMqIgknqgg\n"
     ]
    }
   ],
   "source": [
    "import string \n",
    "import random\n",
    "\n",
    "def generar_clave(largo_clave):\n",
    "    clave = ''\n",
    "    for c in range(largo_clave):\n",
    "        clave  += random.choice(letras)\n",
    "    return clave\n",
    "\n",
    "letras = string.ascii_lowercase\n",
    "letras += string.ascii_uppercase\n",
    "letras += string.digits\n",
    "\n",
    "mi_clave = generar_clave(10)\n",
    "print(mi_clave)"
   ]
  },
  {
   "cell_type": "markdown",
   "metadata": {
    "slideshow": {
     "slide_type": "slide"
    }
   },
   "source": [
    "# Un poco más sobre funciones"
   ]
  },
  {
   "cell_type": "code",
   "execution_count": 53,
   "metadata": {
    "slideshow": {
     "slide_type": "fragment"
    }
   },
   "outputs": [],
   "source": [
    "def generar_clave(largo_clave, todo_minusculas=True):\n",
    "    clave = ''\n",
    "    for c in range(largo_clave):\n",
    "        clave  += random.choice(letras)\n",
    "    if todo_minusculas:\n",
    "        return clave.lower()\n",
    "    else:\n",
    "        return clave"
   ]
  },
  {
   "cell_type": "code",
   "execution_count": 55,
   "metadata": {
    "slideshow": {
     "slide_type": "fragment"
    }
   },
   "outputs": [
    {
     "data": {
      "text/plain": [
       "'01ZZhmW5'"
      ]
     },
     "execution_count": 55,
     "metadata": {},
     "output_type": "execute_result"
    }
   ],
   "source": [
    "mi_clave = generar_clave(8)\n",
    "mi_clave"
   ]
  },
  {
   "cell_type": "markdown",
   "metadata": {
    "slideshow": {
     "slide_type": "fragment"
    }
   },
   "source": [
    "- Las funciones  pueden tener valores por defecto.\n",
    "- Estos parámetros siempre se ubican **al final** de la lista de parámetros.\n",
    "- Más información en [documentación oficial sobre funciones](https://docs.python.org/3/tutorial/controlflow.html#defining-functions)"
   ]
  },
  {
   "cell_type": "markdown",
   "metadata": {
    "slideshow": {
     "slide_type": "slide"
    }
   },
   "source": [
    "\n",
    "# ¿Cuándo se evalúan los valores por defecto en los parámetros?\n"
   ]
  },
  {
   "cell_type": "code",
   "execution_count": 56,
   "metadata": {
    "slideshow": {
     "slide_type": "fragment"
    }
   },
   "outputs": [
    {
     "name": "stdout",
     "output_type": "stream",
     "text": [
      "4\n"
     ]
    }
   ],
   "source": [
    "i = 4\n",
    "def funcion(x=i):\n",
    "    print(x)\n",
    "\n",
    "i = 10\n",
    "funcion()"
   ]
  },
  {
   "cell_type": "markdown",
   "metadata": {
    "slideshow": {
     "slide_type": "slide"
    }
   },
   "source": [
    "# Las funciones como  \"objetos de primera clase\"\n",
    "\n",
    "- **¿Qué significa esto?** Pueden ser asignadas a variables, almacenadas en estructuras de datos, pasadas como argumentos a otras funciones e incluso retornadas como valores de otras funciones."
   ]
  },
  {
   "cell_type": "code",
   "execution_count": 57,
   "metadata": {
    "slideshow": {
     "slide_type": "fragment"
    }
   },
   "outputs": [
    {
     "data": {
      "text/plain": [
       "20"
      ]
     },
     "execution_count": 57,
     "metadata": {},
     "output_type": "execute_result"
    }
   ],
   "source": [
    "def doble(x):\n",
    "    return 2*x\n",
    "\n",
    "f = doble\n",
    "f(10)"
   ]
  },
  {
   "cell_type": "code",
   "execution_count": 58,
   "metadata": {
    "slideshow": {
     "slide_type": "fragment"
    }
   },
   "outputs": [
    {
     "name": "stdout",
     "output_type": "stream",
     "text": [
      "0-2-4-6-8-10-12-14-16-18-"
     ]
    }
   ],
   "source": [
    "secuencia = range(10)\n",
    "dobles = map(doble, secuencia)\n",
    "for elem in dobles:\n",
    "    print(elem, end=\"-\")"
   ]
  },
  {
   "cell_type": "markdown",
   "metadata": {
    "slideshow": {
     "slide_type": "slide"
    }
   },
   "source": [
    "# Expresiones lambda"
   ]
  },
  {
   "cell_type": "markdown",
   "metadata": {
    "slideshow": {
     "slide_type": "fragment"
    }
   },
   "source": [
    "```python\n",
    "lambda x: 2*x\n",
    "```\n",
    "Es equivalente a:\n",
    "```python\n",
    "\tdef doble(x):\n",
    "\t\treturn 2*x\n",
    "```\n",
    "        \n",
    "Más info [sobre lambda](https://docs.python.org/3/tutorial/controlflow.html#lambda-expressions)"
   ]
  },
  {
   "cell_type": "code",
   "execution_count": 59,
   "metadata": {
    "slideshow": {
     "slide_type": "fragment"
    }
   },
   "outputs": [
    {
     "data": {
      "text/plain": [
       "6"
      ]
     },
     "execution_count": 59,
     "metadata": {},
     "output_type": "execute_result"
    }
   ],
   "source": [
    "f = lambda a, b=1: a*b\n",
    "f(2,3)"
   ]
  },
  {
   "cell_type": "markdown",
   "metadata": {
    "slideshow": {
     "slide_type": "subslide"
    }
   },
   "source": [
    "# Otro ejemplo"
   ]
  },
  {
   "cell_type": "code",
   "execution_count": 60,
   "metadata": {
    "slideshow": {
     "slide_type": "fragment"
    }
   },
   "outputs": [
    {
     "name": "stdout",
     "output_type": "stream",
     "text": [
      "44 48\n",
      "55\n"
     ]
    }
   ],
   "source": [
    "def make_incrementor(n):\n",
    "    return lambda x: x + n\n",
    "\n",
    "f = make_incrementor(2)\n",
    "g = make_incrementor(6)\n",
    "\n",
    "print(f(42), g(42))\n",
    "print(make_incrementor(22)(33))"
   ]
  },
  {
   "cell_type": "markdown",
   "metadata": {
    "slideshow": {
     "slide_type": "subslide"
    }
   },
   "source": [
    "# Usos comunes"
   ]
  },
  {
   "cell_type": "code",
   "execution_count": 62,
   "metadata": {
    "slideshow": {
     "slide_type": "fragment"
    }
   },
   "outputs": [
    {
     "name": "stdout",
     "output_type": "stream",
     "text": [
      "2-4-6-"
     ]
    }
   ],
   "source": [
    "lista  = [1, 2, 3, 4, 5, 6, 7]\n",
    "\n",
    "#secuencia = map(lambda x: x*x, lista)\n",
    "\n",
    "secuencia = filter(lambda x: x%2 == 0, lista)\n",
    "for elem in secuencia:\n",
    "    print(elem, end=\"-\")    "
   ]
  },
  {
   "cell_type": "markdown",
   "metadata": {
    "slideshow": {
     "slide_type": "slide"
    }
   },
   "source": [
    "# Decoradores"
   ]
  },
  {
   "cell_type": "markdown",
   "metadata": {
    "slideshow": {
     "slide_type": "fragment"
    }
   },
   "source": [
    "- Un decorador es una función que recibe una función como argumento y extiende el comportamiento de esta última función sin modificarla explícitamente."
   ]
  },
  {
   "cell_type": "code",
   "execution_count": 63,
   "metadata": {
    "slideshow": {
     "slide_type": "fragment"
    }
   },
   "outputs": [],
   "source": [
    "def decimos_hola(nombre):\n",
    "    return f\"Hola {nombre}!\"\n",
    "\n",
    "def decimos_chau(nombre):\n",
    "    return f\"Chau {nombre}!\"\n",
    "\n",
    "def saludo_a_Clau(saludo):\n",
    "    return saludo(\"Clau\")"
   ]
  },
  {
   "cell_type": "code",
   "execution_count": 65,
   "metadata": {
    "slideshow": {
     "slide_type": "fragment"
    }
   },
   "outputs": [
    {
     "data": {
      "text/plain": [
       "'Hola Clau!'"
      ]
     },
     "execution_count": 65,
     "metadata": {},
     "output_type": "execute_result"
    }
   ],
   "source": [
    "saludo_a_Clau(decimos_hola)\n",
    "#saludo_a_Clau(decimos_chau)"
   ]
  },
  {
   "cell_type": "markdown",
   "metadata": {
    "slideshow": {
     "slide_type": "subslide"
    }
   },
   "source": [
    "# ¿Qué podemos decir de este ejemplo?\n",
    "- Ejemplo sacado de https://realpython.com/primer-on-python-decorators/"
   ]
  },
  {
   "cell_type": "code",
   "execution_count": 66,
   "metadata": {
    "slideshow": {
     "slide_type": "fragment"
    }
   },
   "outputs": [],
   "source": [
    "def decorador(funcion):\n",
    "    def funcion_interna():\n",
    "        print(\"Antes de  invocar a la función.\")\n",
    "        funcion()\n",
    "        print(\"Después de invocar a la función.\")\n",
    "    \n",
    "    return funcion_interna\n",
    "\n",
    "def decimos_hola():\n",
    "    print(\"Hola!\")"
   ]
  },
  {
   "cell_type": "code",
   "execution_count": 68,
   "metadata": {
    "slideshow": {
     "slide_type": "fragment"
    }
   },
   "outputs": [],
   "source": [
    "saludo = decorador(decimos_hola)"
   ]
  },
  {
   "cell_type": "markdown",
   "metadata": {
    "slideshow": {
     "slide_type": "fragment"
    }
   },
   "source": [
    "- ¿De qué tipo es saludo?"
   ]
  },
  {
   "cell_type": "code",
   "execution_count": 69,
   "metadata": {
    "slideshow": {
     "slide_type": "fragment"
    }
   },
   "outputs": [
    {
     "name": "stdout",
     "output_type": "stream",
     "text": [
      "Antes de  invocar a la función.\n",
      "Hola!\n",
      "Después de invocar a la función.\n"
     ]
    }
   ],
   "source": [
    "saludo()"
   ]
  },
  {
   "cell_type": "markdown",
   "metadata": {
    "slideshow": {
     "slide_type": "subslide"
    }
   },
   "source": [
    "# Otra forma de escribir esto:\n"
   ]
  },
  {
   "cell_type": "code",
   "execution_count": 70,
   "metadata": {
    "slideshow": {
     "slide_type": "fragment"
    }
   },
   "outputs": [],
   "source": [
    "def decorador(funcion):\n",
    "    def funcion_interna():\n",
    "        print(\"Antes de  invocar a la función.\")\n",
    "        funcion()\n",
    "        print(\"Después de invocar a la función.\")\n",
    "    return funcion_interna\n",
    "\n",
    "@decorador\n",
    "def decimos_hola():\n",
    "    print(\"Hola!\")"
   ]
  },
  {
   "cell_type": "code",
   "execution_count": 71,
   "metadata": {
    "slideshow": {
     "slide_type": "fragment"
    }
   },
   "outputs": [
    {
     "name": "stdout",
     "output_type": "stream",
     "text": [
      "Antes de  invocar a la función.\n",
      "Hola!\n",
      "Después de invocar a la función.\n"
     ]
    }
   ],
   "source": [
    "decimos_hola()"
   ]
  },
  {
   "cell_type": "markdown",
   "metadata": {
    "slideshow": {
     "slide_type": "subslide"
    }
   },
   "source": [
    "# Es equivalente a: \n",
    "    \n",
    "```python\n",
    "decimos_hola = decorador(decimos_hola)\n",
    "```\n",
    "\n",
    "- [+Ínfo](https://realpython.com/primer-on-python-decorators/)\n",
    "- [+Info en español](https://recursospython.com/guias-y-manuales/decoradores/)"
   ]
  },
  {
   "cell_type": "markdown",
   "metadata": {
    "slideshow": {
     "slide_type": "slide"
    }
   },
   "source": [
    "# Manejo de  excepciones"
   ]
  },
  {
   "cell_type": "markdown",
   "metadata": {
    "slideshow": {
     "slide_type": "fragment"
    }
   },
   "source": [
    "- ¿Qué acción se toma después de levantada y manejada una excepción? ¿Se continúa con la ejecución de la unidad que lo provocó o se termina?\n",
    "- ¿Qué sucede cuando no se encuentra un manejador para una excepción levantada?\n",
    "- ¿Qué excepciones predefinidas existen?\n",
    "- ¿Podemos levantar en forma explícita una excepción?\n",
    "- ¿Podemos crear nuestras propias excepciones?"
   ]
  },
  {
   "cell_type": "markdown",
   "metadata": {
    "slideshow": {
     "slide_type": "subslide"
    }
   },
   "source": [
    "\n",
    "# En Python: **try - except**\n",
    "\n",
    "\n",
    "\n",
    "```python\n",
    "try:\n",
    "    sentencias\n",
    "except excepcion1, excepcion2:\n",
    "    sentencias\n",
    "except excepcion3 as variable:\n",
    "    sentencias\n",
    "except:\n",
    "    sentencias\n",
    "else:\n",
    "    sentencias\n",
    "finally:\n",
    "    sentencias\n",
    "    \n",
    "```\n",
    "\n"
   ]
  },
  {
   "cell_type": "markdown",
   "metadata": {
    "slideshow": {
     "slide_type": "subslide"
    }
   },
   "source": [
    "# Veamos un ejemplo"
   ]
  },
  {
   "cell_type": "code",
   "execution_count": 72,
   "metadata": {
    "slideshow": {
     "slide_type": "fragment"
    }
   },
   "outputs": [
    {
     "name": "stdout",
     "output_type": "stream",
     "text": [
      "1 - Charly Alberti\n",
      "2 - Gustavo Ceratti\n",
      "Clave incorrecta.\n"
     ]
    }
   ],
   "source": [
    "soda = {1:\"Charly Alberti\", 2:\"Gustavo Ceratti\", 4:\"Zeta Bosio\"}\n",
    "try:\n",
    "    for clave in range(1,6):\n",
    "        print(f\"{clave} - {soda[clave]}\")\n",
    "except (KeyError):\n",
    "    print(\"Clave incorrecta.\")"
   ]
  },
  {
   "cell_type": "markdown",
   "metadata": {
    "slideshow": {
     "slide_type": "fragment"
    }
   },
   "source": [
    "<center>\n",
    "    <h3> Python FINALIZA el bloque que levanta la excepción  </h3>\n",
    "<c/enter>\n"
   ]
  },
  {
   "cell_type": "code",
   "execution_count": 73,
   "metadata": {
    "slideshow": {
     "slide_type": "fragment"
    }
   },
   "outputs": [
    {
     "name": "stdout",
     "output_type": "stream",
     "text": [
      "1 - Charly Alberti\n",
      "2 - Gustavo Ceratti\n",
      "Clave incorrecta.\n",
      "4 - Zeta Bosio\n",
      "Clave incorrecta.\n"
     ]
    }
   ],
   "source": [
    "soda = {1:\"Charly Alberti\", 2:\"Gustavo Ceratti\", 4:\"Zeta Bosio\"}\n",
    "for clave in range(1,6):\n",
    "    try:\n",
    "        print(f\"{clave} - {soda[clave]}\")\n",
    "    except (KeyError):\n",
    "        print(\"Clave incorrecta.\")"
   ]
  },
  {
   "cell_type": "markdown",
   "metadata": {
    "slideshow": {
     "slide_type": "subslide"
    }
   },
   "source": [
    "# Sobre los restantes aspectos ... \n",
    "\n",
    "- ¿Qué acción se toma después de levantada y manejada una excepción? ¿Se continúa con la ejecución de la unidad que lo provocó o se termina?\n",
    "- ¿Qué sucede cuando no se encuentra un manejador para una excepción levantada?\n",
    "- ¿Qué excepciones predefinidas existen?\n",
    "- ¿Podemos levantar en forma explícita una excepción?\n",
    "- ¿Podemos crear nuestras propias excepciones?"
   ]
  },
  {
   "cell_type": "markdown",
   "metadata": {
    "slideshow": {
     "slide_type": "slide"
    }
   },
   "source": [
    "# Objetos en Python"
   ]
  },
  {
   "cell_type": "code",
   "execution_count": 82,
   "metadata": {
    "slideshow": {
     "slide_type": "fragment"
    }
   },
   "outputs": [],
   "source": [
    "class Banda():\n",
    "    \"Define la entidad que representa a una banda\"\n",
    "    \n",
    "    def __init__(self, nombre, genero=\"rock\"):\n",
    "        self._nombre = nombre\n",
    "        self._genero = genero\n",
    "        self._integrantes = []\n",
    "  \n",
    "    def get_nombre(self):\n",
    "        return self._nombre\n",
    "\n",
    "    def agregar_integrante(self, nuevo_integrante):\n",
    "        self._integrantes.append(nuevo_integrante)"
   ]
  },
  {
   "cell_type": "code",
   "execution_count": 83,
   "metadata": {
    "slideshow": {
     "slide_type": "fragment"
    }
   },
   "outputs": [
    {
     "name": "stdout",
     "output_type": "stream",
     "text": [
      "Soda Stereo\n"
     ]
    }
   ],
   "source": [
    "soda = Banda(\"Soda Stereo\")\n",
    "soda.agregar_integrante(\"Gustavo Ceratti\")\n",
    "print(soda.get_nombre())"
   ]
  },
  {
   "cell_type": "markdown",
   "metadata": {
    "slideshow": {
     "slide_type": "fragment"
    }
   },
   "source": [
    "- Es una buena práctica definir los docstrings\n",
    "- Público y privado."
   ]
  },
  {
   "cell_type": "markdown",
   "metadata": {
    "slideshow": {
     "slide_type": "subslide"
    }
   },
   "source": [
    "# Los símbolos de subrayados \n",
    "\n",
    "En este artículo se describe el [uso de underscores en Python](https://dbader.org/blog/meaning-of-underscores-in-python)\n",
    "\n",
    "## Algunos métodos especiales\n",
    "\n",
    "-  \\_\\_str__\n",
    "- \\_\\_lt__, \\_\\_gt__, \\_\\_le__, \\_\\_ge__ \n",
    "- \\_\\_eq__, \\_\\_ne__\n"
   ]
  },
  {
   "cell_type": "code",
   "execution_count": 88,
   "metadata": {
    "slideshow": {
     "slide_type": "subslide"
    }
   },
   "outputs": [],
   "source": [
    "class Banda():\n",
    "    \"\"\"    Define la entidad que representa a una banda   los m\n",
    "    \"\"\"\n",
    "    \n",
    "    def __init__(self, nombre, genero=\"rock\"):\n",
    "        self._nombre = nombre\n",
    "        self._genero = genero\n",
    "        self._integrantes = []\n",
    "  \n",
    "    def get_nombre(self):\n",
    "        return self._nombre\n",
    "\n",
    "    def agregar_integrante(self, nuevo_integrante):\n",
    "        self._integrantes.append(nuevo_integrante)\n",
    "    \n",
    "    def __str__(self):\n",
    "        return (f\"{self._nombre} está integrada por {self._integrantes}\")\n",
    "\n",
    "    def __eq__(self, otro):\n",
    "        return (self._nombre == otro.get_nombre())"
   ]
  },
  {
   "cell_type": "code",
   "execution_count": 89,
   "metadata": {
    "slideshow": {
     "slide_type": "subslide"
    }
   },
   "outputs": [
    {
     "name": "stdout",
     "output_type": "stream",
     "text": [
      "Soda Stereo está integrada por ['Gustavo Ceratti', 'Zeta']\n"
     ]
    }
   ],
   "source": [
    "soda = Banda(\"Soda Stereo\")\n",
    "soda.agregar_integrante(\"Gustavo Ceratti\")\n",
    "soda.agregar_integrante(\"Zeta\")\n",
    "print(soda)"
   ]
  },
  {
   "cell_type": "code",
   "execution_count": 90,
   "metadata": {
    "slideshow": {
     "slide_type": "fragment"
    }
   },
   "outputs": [
    {
     "data": {
      "text/plain": [
       "False"
      ]
     },
     "execution_count": 90,
     "metadata": {},
     "output_type": "execute_result"
    }
   ],
   "source": [
    "soda = Banda(\"Soda Stereo\")\n",
    "seru = Banda(\"Seru Giran\")\n",
    "soda==seru"
   ]
  },
  {
   "cell_type": "markdown",
   "metadata": {
    "slideshow": {
     "slide_type": "subslide"
    }
   },
   "source": [
    "# Herencia en Python\n"
   ]
  },
  {
   "cell_type": "code",
   "execution_count": 92,
   "metadata": {
    "slideshow": {
     "slide_type": "subslide"
    }
   },
   "outputs": [],
   "source": [
    "class Musico:\n",
    "    def __init__(self, nombre, puesto=None, banda=None):\n",
    "        self._nombre = nombre\n",
    "        self._tiene_banda = banda!=None\n",
    "        self._banda = banda\n",
    "        self._puesto = puesto\n",
    "        \n",
    "    def info(self):\n",
    "        if self._tiene_banda:\n",
    "            print (f\"{self._nombre}  canta en la banda {self._banda}\")\n",
    "        else:\n",
    "            print(f\"{self._nombre} es solista \")\n",
    "\n",
    "class Guitarrista(Musico):\n",
    "    def __init__(self, nombre, banda=None):\n",
    "        Musico.__init__(self, nombre, \"guitarrista\", banda)\n",
    "        self._instrumento = \"guitarra\"\n",
    "    \n",
    "    def info(self):\n",
    "        print (f\"{self._nombre}  toca {self._instrumento}\")\n",
    "\n",
    "class Vocalista(Musico):\n",
    "    def __init__(self, nombre, banda=None):\n",
    "         Musico.__init__(self, nombre, \"vocalista\")\n",
    "            "
   ]
  },
  {
   "cell_type": "code",
   "execution_count": 93,
   "metadata": {
    "slideshow": {
     "slide_type": "subslide"
    }
   },
   "outputs": [
    {
     "name": "stdout",
     "output_type": "stream",
     "text": [
      "Bruce Springsteen es solista \n",
      "Brian May  toca guitarra\n"
     ]
    }
   ],
   "source": [
    "bruce = Vocalista('Bruce Springsteen')\n",
    "bruce.info()\n",
    "brian = Guitarrista(\"Brian May\", \"Queen\")\n",
    "brian.info()"
   ]
  },
  {
   "cell_type": "markdown",
   "metadata": {
    "slideshow": {
     "slide_type": "subslide"
    }
   },
   "source": [
    "# Python tiene herencia múltiple\n",
    " "
   ]
  },
  {
   "cell_type": "code",
   "execution_count": 94,
   "metadata": {
    "slideshow": {
     "slide_type": "subslide"
    }
   },
   "outputs": [],
   "source": [
    "class Musico:\n",
    "    def __init__(self, nombre, puesto=None, banda=None):\n",
    "        self._nombre = nombre\n",
    "        self._tiene_banda = banda!=None\n",
    "        self._banda = banda\n",
    "        self._puesto = puesto\n",
    "    def info(self):\n",
    "        if self._tiene_banda:\n",
    "            print (f\"{self._nombre}  canta en la banda {self._banda}\")\n",
    "        else:\n",
    "            print(f\"{self._nombre} es solista \")\n",
    "\n",
    "class Guitarrista(Musico):\n",
    "    def __init__(self, nombre, banda=None):\n",
    "        Musico.__init__(self, nombre, \"guitarrista\", banda)\n",
    "        self._instrumento = \"guitarra\"\n",
    "    \n",
    "    def info(self):\n",
    "        print (f\"{self._nombre}  toca {self._instrumento}\")\n",
    "\n",
    "class Vocalista(Musico):\n",
    "    def __init__(self, nombre, banda=None):\n",
    "         Musico.__init__(self, nombre, \"vocalista\")\n",
    "            "
   ]
  },
  {
   "cell_type": "code",
   "execution_count": 98,
   "metadata": {
    "slideshow": {
     "slide_type": "subslide"
    }
   },
   "outputs": [],
   "source": [
    "class VocalistaYGuitarrista(Guitarrista, Vocalista):\n",
    "    def __init__(self, nombre, banda=None):\n",
    "        Vocalista.__init__(self, nombre, banda)\n",
    "        Guitarrista.__init__(self, nombre, banda)"
   ]
  },
  {
   "cell_type": "code",
   "execution_count": 99,
   "metadata": {
    "slideshow": {
     "slide_type": "fragment"
    }
   },
   "outputs": [
    {
     "name": "stdout",
     "output_type": "stream",
     "text": [
      "Ricardo Mollo  toca guitarra\n"
     ]
    }
   ],
   "source": [
    "mollo = VocalistaYGuitarrista(\"Ricardo Mollo\", \"Divididos\")\n",
    "mollo.info()"
   ]
  },
  {
   "cell_type": "markdown",
   "metadata": {
    "slideshow": {
     "slide_type": "subslide"
    }
   },
   "source": [
    "# A tener en cuenta ...\n",
    "\n",
    "- MRO \"Method Resolution Order\"\n",
    "- Por lo tanto, es MUY importante el orden en que se especifican las clases bases.\n",
    "- Más información en [documentación oficial](https://docs.python.org/3/tutorial/classes.html)\n"
   ]
  },
  {
   "cell_type": "code",
   "execution_count": 100,
   "metadata": {},
   "outputs": [
    {
     "data": {
      "text/plain": [
       "(__main__.VocalistaYGuitarrista,\n",
       " __main__.Guitarrista,\n",
       " __main__.Vocalista,\n",
       " __main__.Musico,\n",
       " object)"
      ]
     },
     "execution_count": 100,
     "metadata": {},
     "output_type": "execute_result"
    }
   ],
   "source": [
    "VocalistaYGuitarrista.__mro__"
   ]
  },
  {
   "cell_type": "markdown",
   "metadata": {
    "slideshow": {
     "slide_type": "slide"
    }
   },
   "source": [
    "# Propiedades"
   ]
  },
  {
   "cell_type": "code",
   "execution_count": 102,
   "metadata": {
    "slideshow": {
     "slide_type": "fragment"
    }
   },
   "outputs": [],
   "source": [
    "class Demo:\n",
    "    def __init__(self):\n",
    "        self._x = 0\n",
    "\n",
    "    def getx(self):\n",
    "        print(\"estoy en get\")\n",
    "        return self._x\n",
    "\n",
    "    def setx(self, value):\n",
    "        print(\"estoy en set\")\n",
    "        self._x = value\n",
    "\n",
    "    \n",
    "    x = property(getx, setx)"
   ]
  },
  {
   "cell_type": "code",
   "execution_count": 103,
   "metadata": {
    "slideshow": {
     "slide_type": "fragment"
    }
   },
   "outputs": [
    {
     "name": "stdout",
     "output_type": "stream",
     "text": [
      "estoy en set\n",
      "estoy en get\n",
      "10\n"
     ]
    }
   ],
   "source": [
    "obj = Demo()\n",
    "obj.x = 10\n",
    "print(obj.x)"
   ]
  },
  {
   "cell_type": "markdown",
   "metadata": {
    "slideshow": {
     "slide_type": "subslide"
    }
   },
   "source": [
    "# La función property()\n",
    "**property()** crea una propiedad de la clase. \n",
    "```python\n",
    "\tproperty(fget=None, fset=None, fdel=None, doc=None)\n",
    "\n",
    "\tx = property(getx, setx, delx, \"x es una propiedad\")\n",
    "```"
   ]
  },
  {
   "cell_type": "markdown",
   "metadata": {
    "slideshow": {
     "slide_type": "fragment"
    }
   },
   "source": [
    "- Más info: https://docs.python.org/3/library/functions.html?highlight=property#property"
   ]
  },
  {
   "cell_type": "markdown",
   "metadata": {
    "slideshow": {
     "slide_type": "subslide"
    }
   },
   "source": [
    "# @property"
   ]
  },
  {
   "cell_type": "code",
   "execution_count": 105,
   "metadata": {
    "slideshow": {
     "slide_type": "fragment"
    }
   },
   "outputs": [
    {
     "ename": "AttributeError",
     "evalue": "can't set attribute 'x'",
     "output_type": "error",
     "traceback": [
      "\u001b[0;31m---------------------------------------------------------------------------\u001b[0m",
      "\u001b[0;31mAttributeError\u001b[0m                            Traceback (most recent call last)",
      "Input \u001b[0;32mIn [105]\u001b[0m, in \u001b[0;36m<cell line: 10>\u001b[0;34m()\u001b[0m\n\u001b[1;32m      7\u001b[0m         \u001b[38;5;28;01mreturn\u001b[39;00m \u001b[38;5;28mself\u001b[39m\u001b[38;5;241m.\u001b[39m_x\n\u001b[1;32m      9\u001b[0m obj \u001b[38;5;241m=\u001b[39m Demo()\n\u001b[0;32m---> 10\u001b[0m obj\u001b[38;5;241m.\u001b[39mx \u001b[38;5;241m=\u001b[39m \u001b[38;5;241m10\u001b[39m \u001b[38;5;66;03m# Esto dará error: ¿por qué?\u001b[39;00m\n\u001b[1;32m     11\u001b[0m \u001b[38;5;28mprint\u001b[39m(obj\u001b[38;5;241m.\u001b[39mx)\n",
      "\u001b[0;31mAttributeError\u001b[0m: can't set attribute 'x'"
     ]
    }
   ],
   "source": [
    "class Demo:\n",
    "    def __init__(self):\n",
    "        self._x = 0\n",
    "\n",
    "    @property\n",
    "    def x(self):\n",
    "        return self._x\n",
    "\n",
    "obj = Demo()\n",
    "obj.x = 10 # Esto dará error: ¿por qué?\n",
    "print(obj.x)"
   ]
  },
  {
   "cell_type": "markdown",
   "metadata": {
    "slideshow": {
     "slide_type": "fragment"
    }
   },
   "source": [
    "- @property es un **decorador**: una función que recibe una función como argumento y retorna  otra función. \n",
    "\n",
    "- No podemos modificar la propiedad x. ¿Por qué?"
   ]
  },
  {
   "cell_type": "markdown",
   "metadata": {
    "slideshow": {
     "slide_type": "subslide"
    }
   },
   "source": [
    "# El ejemplo completo"
   ]
  },
  {
   "cell_type": "code",
   "execution_count": 106,
   "metadata": {
    "slideshow": {
     "slide_type": "fragment"
    }
   },
   "outputs": [
    {
     "name": "stdout",
     "output_type": "stream",
     "text": [
      "10\n"
     ]
    }
   ],
   "source": [
    "class Demo:\n",
    "    def __init__(self):\n",
    "        self._x = 0\n",
    "\n",
    "    @property\n",
    "    def x(self):\n",
    "        return self._x\n",
    "\n",
    "    @x.setter\n",
    "    def x(self, value):\n",
    "        self._x = value\n",
    "\n",
    "obj = Demo()\n",
    "obj.x = 10\n",
    "print(obj.x)"
   ]
  },
  {
   "cell_type": "markdown",
   "metadata": {
    "slideshow": {
     "slide_type": "subslide"
    }
   },
   "source": [
    "# Métodos de clase\n",
    "\n",
    "- Se utiliza el decorador **@classmethod**.\n",
    "- Se usa **cls** en vez de **self**. ¿A qué hace referencia este argumento? "
   ]
  },
  {
   "cell_type": "code",
   "execution_count": null,
   "metadata": {
    "slideshow": {
     "slide_type": "fragment"
    }
   },
   "outputs": [],
   "source": [
    "class Banda():\n",
    "    generos = set()\n",
    "    \n",
    "    @classmethod\n",
    "    def limpio_generos(cls, confirmo=False):\n",
    "        if confirmo:\n",
    "            cls.generos =set()\n",
    "        else:\n",
    "            return cls.generos\n",
    "        \n",
    "    def __init__(self, nombre, genero=\"rock\"):\n",
    "        self._nombre = nombre\n",
    "        self._genero = genero\n",
    "        self._integrantes = []\n",
    "        Banda.generos.add(genero)"
   ]
  },
  {
   "cell_type": "code",
   "execution_count": null,
   "metadata": {
    "slideshow": {
     "slide_type": "subslide"
    }
   },
   "outputs": [],
   "source": [
    "soda = Banda(\"Soda Stereo\")"
   ]
  },
  {
   "cell_type": "code",
   "execution_count": null,
   "metadata": {
    "slideshow": {
     "slide_type": "fragment"
    }
   },
   "outputs": [],
   "source": [
    "Banda.limpio_generos()"
   ]
  },
  {
   "cell_type": "markdown",
   "metadata": {
    "slideshow": {
     "slide_type": "slide"
    }
   },
   "source": [
    "# Recursos sobre el Seminario de Python\n",
    "\n",
    "Sitio público de la materia: https://python-unlp.github.io/2022/\n",
    "\n",
    "Más específicamente:\n",
    "- [Guías de estilo](https://python-unlp.github.io/2022/guias/09_guias_de_estilo/)\n",
    "- [Buenas prácticas](https://python-unlp.github.io/2022/guias/12_buenas_practicas/)\n",
    "\n"
   ]
  },
  {
   "cell_type": "markdown",
   "metadata": {
    "slideshow": {
     "slide_type": "slide"
    }
   },
   "source": [
    "# Nos vemos en la próxima ...\n"
   ]
  }
 ],
 "metadata": {
  "celltoolbar": "Slideshow",
  "kernelspec": {
   "display_name": "Python 3 (ipykernel)",
   "language": "python",
   "name": "python3"
  },
  "language_info": {
   "codemirror_mode": {
    "name": "ipython",
    "version": 3
   },
   "file_extension": ".py",
   "mimetype": "text/x-python",
   "name": "python",
   "nbconvert_exporter": "python",
   "pygments_lexer": "ipython3",
   "version": "3.10.5"
  }
 },
 "nbformat": 4,
 "nbformat_minor": 4
}
